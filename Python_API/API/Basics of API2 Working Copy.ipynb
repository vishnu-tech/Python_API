{
 "cells": [
  {
   "cell_type": "code",
   "execution_count": 2,
   "id": "d1bd74f7",
   "metadata": {},
   "outputs": [
    {
     "data": {
      "text/plain": [
       "<Response [200]>"
      ]
     },
     "execution_count": 2,
     "metadata": {},
     "output_type": "execute_result"
    }
   ],
   "source": [
    "import requests\n",
    "\n",
    "response = requests.get('https://randomuser.me/api/')\n",
    "response"
   ]
  },
  {
   "cell_type": "code",
   "execution_count": 3,
   "id": "ad898e47",
   "metadata": {},
   "outputs": [
    {
     "name": "stdout",
     "output_type": "stream",
     "text": [
      "{\"results\":[{\"gender\":\"male\",\"name\":{\"title\":\"Mr\",\"first\":\"Flavio\",\"last\":\"Ureña\"},\"location\":{\"street\":{\"number\":9902,\"name\":\"Continuación Yucatán\"},\"city\":\"Paso Morelos (Cuetlajuchi)\",\"state\":\"Guerrero\",\"country\":\"Mexico\",\"postcode\":88600,\"coordinates\":{\"latitude\":\"23.1543\",\"longitude\":\"-179.7510\"},\"timezone\":{\"offset\":\"-3:30\",\"description\":\"Newfoundland\"}},\"email\":\"flavio.urena@example.com\",\"login\":{\"uuid\":\"5e5f796d-6787-4e46-b157-71a2e267ddf7\",\"username\":\"greenladybug532\",\"password\":\"antony\",\"salt\":\"xEHE4tBR\",\"md5\":\"81858698cf8adf00a7de0b1a5ca3153e\",\"sha1\":\"1530d6a81b8e725d76f2db7b16ae712985efdd7e\",\"sha256\":\"d498d2b4e381c9993012bbc05f3793d293049c0a8517f8916b87bcc95b308c30\"},\"dob\":{\"date\":\"1950-02-22T07:08:41.587Z\",\"age\":72},\"registered\":{\"date\":\"2015-05-07T14:15:37.296Z\",\"age\":7},\"phone\":\"(691) 348 8941\",\"cell\":\"(628) 858 5097\",\"id\":{\"name\":\"NSS\",\"value\":\"42 08 12 5314 9\"},\"picture\":{\"large\":\"https://randomuser.me/api/portraits/men/15.jpg\",\"medium\":\"https://randomuser.me/api/portraits/med/men/15.jpg\",\"thumbnail\":\"https://randomuser.me/api/portraits/thumb/men/15.jpg\"},\"nat\":\"MX\"}],\"info\":{\"seed\":\"4b837d4307b19d70\",\"results\":1,\"page\":1,\"version\":\"1.4\"}}\n"
     ]
    }
   ],
   "source": [
    "print(response.text)"
   ]
  },
  {
   "cell_type": "code",
   "execution_count": 5,
   "id": "f99d36b7",
   "metadata": {},
   "outputs": [
    {
     "name": "stdout",
     "output_type": "stream",
     "text": [
      "{\"Emp_ID\": 1}\n",
      "<class 'str'>\n"
     ]
    }
   ],
   "source": [
    "import json\n",
    "\n",
    "sample_json = '{\"Emp_ID\": 1}'\n",
    "\n",
    "print(sample_json)\n",
    "print(type(sample_json))"
   ]
  },
  {
   "cell_type": "code",
   "execution_count": 6,
   "id": "7afdfc72",
   "metadata": {},
   "outputs": [
    {
     "name": "stdout",
     "output_type": "stream",
     "text": [
      "{'Emp_ID': 1}\n",
      "<class 'dict'>\n"
     ]
    }
   ],
   "source": [
    "python_data = json.loads(sample_json)\n",
    "\n",
    "print(python_data)\n",
    "print(type(python_data))"
   ]
  },
  {
   "cell_type": "code",
   "execution_count": 7,
   "id": "f17cbe7f",
   "metadata": {},
   "outputs": [
    {
     "name": "stdout",
     "output_type": "stream",
     "text": [
      "1\n"
     ]
    }
   ],
   "source": [
    "print(python_data['Emp_ID'])"
   ]
  },
  {
   "cell_type": "code",
   "execution_count": 8,
   "id": "2903419d",
   "metadata": {},
   "outputs": [
    {
     "name": "stdout",
     "output_type": "stream",
     "text": [
      "<class 'int'>\n"
     ]
    }
   ],
   "source": [
    "print(type(python_data['Emp_ID']))"
   ]
  },
  {
   "cell_type": "code",
   "execution_count": 11,
   "id": "80614632",
   "metadata": {},
   "outputs": [
    {
     "name": "stdout",
     "output_type": "stream",
     "text": [
      "{'temp': 99.6}\n",
      "<class 'dict'>\n",
      "<class 'float'>\n"
     ]
    }
   ],
   "source": [
    "sample_json = '{\"temp\" : 99.6}'\n",
    "python_data = json.loads(sample_json)\n",
    "print(python_data)\n",
    "print(type(python_data))\n",
    "print(type(python_data['temp']))"
   ]
  },
  {
   "cell_type": "code",
   "execution_count": 12,
   "id": "95c9e5d3",
   "metadata": {},
   "outputs": [
    {
     "name": "stdout",
     "output_type": "stream",
     "text": [
      "{'Name': 'Atulya'}\n",
      "<class 'dict'>\n",
      "<class 'str'>\n"
     ]
    }
   ],
   "source": [
    "sample_json = '{\"Name\" : \"Atulya\"}'\n",
    "python_data = json.loads(sample_json)\n",
    "print(python_data)\n",
    "print(type(python_data))\n",
    "print(type(python_data['Name']))"
   ]
  },
  {
   "cell_type": "code",
   "execution_count": 18,
   "id": "33f0360d",
   "metadata": {},
   "outputs": [
    {
     "name": "stdout",
     "output_type": "stream",
     "text": [
      "{'name': 'Atulya', 'age': 28, 'city': 'New Delhi', 'some_val': None}\n",
      "<class 'dict'>\n",
      "Atulya\n",
      "28\n",
      "New Delhi\n",
      "None\n",
      "<class 'str'>\n",
      "<class 'int'>\n",
      "<class 'str'>\n",
      "<class 'NoneType'>\n"
     ]
    }
   ],
   "source": [
    "json_data =  '{\"name\":\"Atulya\", \"age\":28, \"city\":\"New Delhi\", \"some_val\": null}'\n",
    "python_data = json.loads(json_data)\n",
    "print(python_data)\n",
    "print(type(python_data))\n",
    "print(python_data['name'])\n",
    "print(python_data['age'])\n",
    "print(python_data['city'])\n",
    "print(python_data['some_val'])\n",
    "print(type(python_data['name']))\n",
    "print(type(python_data['age']))\n",
    "print(type(python_data['city']))\n",
    "print(type(python_data['some_val']))"
   ]
  },
  {
   "cell_type": "code",
   "execution_count": 23,
   "id": "a4e817e8",
   "metadata": {},
   "outputs": [
    {
     "name": "stdout",
     "output_type": "stream",
     "text": [
      "{'Employee': {'name': 'Atulya', 'age': 28, 'city': 'New Delhi', 'some_val': None}}\n",
      "<class 'dict'>\n",
      "{'name': 'Atulya', 'age': 28, 'city': 'New Delhi', 'some_val': None}\n",
      "<class 'dict'>\n",
      "Atulya\n",
      "28\n",
      "New Delhi\n",
      "None\n"
     ]
    }
   ],
   "source": [
    "json_data_new =  '{\"Employee\":{\"name\":\"Atulya\", \"age\":28, \"city\":\"New Delhi\", \"some_val\": null}}'\n",
    "python_data_new = json.loads(json_data_new)\n",
    "\n",
    "print(python_data_new)\n",
    "print(type(python_data_new))\n",
    "\n",
    "\n",
    "print(python_data_new['Employee'])\n",
    "print(type(python_data_new['Employee']))\n",
    "\n",
    "employee_data = python_data_new['Employee']\n",
    "print(employee_data['name'])\n",
    "print(employee_data['age'])\n",
    "print(employee_data['city'])\n",
    "print(employee_data['some_val'])"
   ]
  },
  {
   "cell_type": "code",
   "execution_count": 27,
   "id": "eb3fc5fb",
   "metadata": {},
   "outputs": [
    {
     "name": "stdout",
     "output_type": "stream",
     "text": [
      "{\"Cars\": [\"Volvo\", \"Audi\", \"McLaren\", \"Hyundai\"]}\n",
      "<class 'str'>\n",
      "{'Cars': ['Volvo', 'Audi', 'McLaren', 'Hyundai']}\n",
      "<class 'dict'>\n",
      "['Volvo', 'Audi', 'McLaren', 'Hyundai']\n",
      "<class 'list'>\n",
      "Volvo\n",
      "Audi\n",
      "McLaren\n",
      "Hyundai\n"
     ]
    }
   ],
   "source": [
    "another_json_data = '{\"Cars\": [\"Volvo\", \"Audi\", \"McLaren\", \"Hyundai\"]}'\n",
    "\n",
    "print(another_json_data)\n",
    "print(type(another_json_data))\n",
    "\n",
    "another_python_data = json.loads(another_json_data)\n",
    "print(another_python_data)\n",
    "print(type(another_python_data))\n",
    "\n",
    "\n",
    "print(another_python_data['Cars'])\n",
    "print(type(another_python_data['Cars']))\n",
    "\n",
    "mylist = another_python_data['Cars']\n",
    "\n",
    "for item in mylist:\n",
    "    print(item)"
   ]
  },
  {
   "cell_type": "code",
   "execution_count": 19,
   "id": "dd3a8f3b",
   "metadata": {},
   "outputs": [],
   "source": [
    "# https://apipheny.io/free-api/"
   ]
  },
  {
   "cell_type": "code",
   "execution_count": 20,
   "id": "daa3729a",
   "metadata": {},
   "outputs": [],
   "source": [
    "# http://universities.hipolabs.com/search?country=United+States"
   ]
  },
  {
   "cell_type": "code",
   "execution_count": null,
   "id": "bc8ecf4b",
   "metadata": {},
   "outputs": [],
   "source": [
    "# https://randomuser.me/api/"
   ]
  }
 ],
 "metadata": {
  "kernelspec": {
   "display_name": "Python 3 (ipykernel)",
   "language": "python",
   "name": "python3"
  },
  "language_info": {
   "codemirror_mode": {
    "name": "ipython",
    "version": 3
   },
   "file_extension": ".py",
   "mimetype": "text/x-python",
   "name": "python",
   "nbconvert_exporter": "python",
   "pygments_lexer": "ipython3",
   "version": "3.8.10"
  }
 },
 "nbformat": 4,
 "nbformat_minor": 5
}
